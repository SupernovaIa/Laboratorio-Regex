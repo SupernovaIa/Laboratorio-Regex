{
 "cells": [
  {
   "cell_type": "markdown",
   "metadata": {},
   "source": [
    "<div style=\"text-align: center;\">\n",
    "  <img src=\"https://github.com/Hack-io-Data/Imagenes/blob/main/01-LogosHackio/logo_naranja@4x.png?raw=true\" alt=\"esquema\" />\n",
    "</div>"
   ]
  },
  {
   "cell_type": "markdown",
   "metadata": {},
   "source": [
    "# Laboratorio de Regex:"
   ]
  },
  {
   "cell_type": "markdown",
   "metadata": {},
   "source": [
    "### Ejercicio 1: Extracción de datos.\n",
    "\n",
    "Recuerda que necesitamos hacer importaciones antes de enfrentarnos a un problema. "
   ]
  },
  {
   "cell_type": "code",
   "execution_count": 1,
   "metadata": {},
   "outputs": [],
   "source": [
    "# Importaciones:\n",
    "## Para trabajar con expresiones regulares\n",
    "import re \n",
    "\n",
    "## Para contar las palabras de un texto \n",
    "from collections import Counter"
   ]
  },
  {
   "cell_type": "markdown",
   "metadata": {},
   "source": [
    "Dado el archivo `datos_artistas.txt` usa las **expresiones regulares** para extraer los siguientes datos, con el código que encontrarás en la siguiente celda:"
   ]
  },
  {
   "cell_type": "code",
   "execution_count": 2,
   "metadata": {},
   "outputs": [
    {
     "name": "stdout",
     "output_type": "stream",
     "text": [
      "BobDylan bob.dylan@gmail.com -1 123456789 http://bobdylan.com Like a Rolling Stone - 6:13 1965 Once upon a time you dressed so fine\n",
      "Threw the bums a dime in your prime, didn't you?\n",
      "People call say 'be\n"
     ]
    }
   ],
   "source": [
    "with open('datos_artistas.txt', 'r') as archivo:\n",
    "    contenido = archivo.read()\n",
    "    # Aquí puedes trabajar con el contenido del archivo\n",
    "\n",
    "print(contenido[:200])"
   ]
  },
  {
   "cell_type": "markdown",
   "metadata": {},
   "source": [
    "#### 1.1 La información de cada artista(nombre, correo de contacto, número de contacto y sitio web)."
   ]
  },
  {
   "cell_type": "code",
   "execution_count": 3,
   "metadata": {},
   "outputs": [
    {
     "name": "stdout",
     "output_type": "stream",
     "text": [
      "['BobDylan', 'TheBeatles', 'EltonJohn', 'Queen', 'MichaelJackson', 'Madonna', 'DavidBowie', 'Nirvana', 'Adele', 'EdSheeran', 'Beyoncé', 'TaylorSwift', 'Rihanna', 'Drake', 'KanyeWest', 'BrunoMars', 'ArianaGrande', 'Shakira', 'Coldplay', 'LadyGaga']\n",
      "['bob.dylan@gmail.com', 'contact@thebeatles.co.uk', 'elton.john@hotmail.com', 'info@queenonline.com', 'michael.jackson@yahoo.com', 'madonna@madonna.com', 'david.bowie@outlook.com', 'contact@nirvana.com', 'adele@adele.com', 'ed.sheeran@gmail.com', 'beyonce@beyonce.com', 'taylor.swift@yahoo.com', 'rihanna@hotmail.com', 'drake@drake.com', 'kanye.west@gmail.com', 'bruno.mars@outlook.com', 'ariana.grande@yahoo.com', 'shakira@hotmail.com', 'info@coldplay.com', 'lady.gaga@gmail.com']\n",
      "['+1 123456789', '+44 234567890', '+34 345678901', '+23 456789012', '+1 567890123', '+11 678901234', '+44 789012345', '+2 890123456', '+44 901234567', '+44 123456789', '+1 234567890', '+34 345678901', '+1 456789012', '+54 567890123', '+13 678901234', '+1 789012345', '+23 890123456', '+57 123456789', '+57 234567890', '+34 345678901']\n",
      "['http://bobdylan.com', 'http://thebeatles.co.uk', 'http://eltonjohn.com', 'http://queenonline.com', 'http://michaeljackson.com', 'http://madonna.com', 'http://davidbowie.com', 'http://nirvana.com', 'http://adele.com', 'http://edsheeran.com', 'http://beyonce.com', 'http://taylorswift.com', 'http://rihanna.com', 'http://drake.com', 'http://kanyewest.com', 'https://brunomars.com', 'https://arianagrande.com', 'http://shakira.com', 'http://coldplay.com', 'https://ladygaga.com']\n"
     ]
    }
   ],
   "source": [
    "# Nombres\n",
    "patron_artistas_nombre = r\"^\\w+|\\.\\/\\w+\"\n",
    "nombres = re.findall(patron_artistas_nombre, contenido)\n",
    "nombres = list(map(lambda x: x.strip(\"./\"), nombres))\n",
    "print(nombres)\n",
    "\n",
    "# Correos\n",
    "patron_artistas_correos = r\"\\S+@\\S+\"\n",
    "correos = re.findall(patron_artistas_correos, contenido)\n",
    "print(correos)\n",
    "\n",
    "# Número de contacto\n",
    "patron_artistas_numeros = r\"-\\d+\\s\\d+\"\n",
    "numeros = re.findall(patron_artistas_numeros, contenido)\n",
    "numeros = list(map(lambda x: x.replace(\"-\", \"+\"), numeros))\n",
    "print(numeros)\n",
    "\n",
    "# Sitio web\n",
    "patron_artistas_web = r\"http\\S+\"\n",
    "web = re.findall(patron_artistas_web, contenido)\n",
    "print(web)"
   ]
  },
  {
   "cell_type": "markdown",
   "metadata": {},
   "source": [
    "#### 1.2 La información de cada canción(título, duración y fecha de lanzamiento)."
   ]
  },
  {
   "cell_type": "code",
   "execution_count": 4,
   "metadata": {},
   "outputs": [
    {
     "name": "stdout",
     "output_type": "stream",
     "text": [
      "['Like a Rolling Stone', 'Hey Jude', 'Your Song', 'Bohemian Rhapsody', 'Billie Jean', 'Like a Prayer', 'Space Oddity', 'Smells Like Teen Spirit', 'Someone Like You', 'Shape of You', 'Halo', 'Blank Space', 'Diamonds', 'Hotline Bling', 'Stronger', 'Uptown Funk', '7 Rings', \"Hips Don't Lie\", 'Yellow', 'Bad Romance']\n",
      "['6:13', '7:11', '4:01', '5:55', '4:54', '5:43', '5:18', '5:01', '4:45', '3:53', '4:21', '3:52', '3:45', '4:27', '5:12', '4:30', '2:58', '3:38', '4:26', '4:54']\n",
      "['1965', '1968', '1970', '1975', '1982', '1989', '1969', '1991', '2011', '2017', '2008', '2014', '2012', '2015', '2007', '2014', '2019', '2006', '2000', '2009']\n"
     ]
    }
   ],
   "source": [
    "# Título\n",
    "patron_canciones_titulo = r\"https?:\\/\\/\\S+\\s(.*?)\\s-\\s\"\n",
    "titulos = re.findall(patron_canciones_titulo, contenido)\n",
    "print(titulos)\n",
    "\n",
    "# Duración\n",
    "patron_canciones_duracion = r\"\\d:[0-9]{2}\"\n",
    "duraciones = re.findall(patron_canciones_duracion, contenido)\n",
    "print(duraciones)\n",
    "\n",
    "# Fecha\n",
    "patron_canciones_fecha = r\"\\W(\\d{4})\\s\"\n",
    "fechas = re.findall(patron_canciones_fecha, contenido)\n",
    "fechas = list(map(lambda x: x.strip(\" \"), fechas))\n",
    "print(fechas)"
   ]
  },
  {
   "cell_type": "markdown",
   "metadata": {},
   "source": [
    "#### 1.3 Almacena la información en una lista de diccionarios donde cada diccionario contenga los datos de un artista y su canción asociada."
   ]
  },
  {
   "cell_type": "code",
   "execution_count": 5,
   "metadata": {},
   "outputs": [
    {
     "data": {
      "text/plain": [
       "[{'Artista': 'BobDylan',\n",
       "  'Correo': 'bob.dylan@gmail.com',\n",
       "  'Número': '+1 123456789',\n",
       "  'Web': 'http://bobdylan.com'},\n",
       " {'Artista': 'TheBeatles',\n",
       "  'Correo': 'contact@thebeatles.co.uk',\n",
       "  'Número': '+44 234567890',\n",
       "  'Web': 'http://thebeatles.co.uk'},\n",
       " {'Artista': 'EltonJohn',\n",
       "  'Correo': 'elton.john@hotmail.com',\n",
       "  'Número': '+34 345678901',\n",
       "  'Web': 'http://eltonjohn.com'},\n",
       " {'Artista': 'Queen',\n",
       "  'Correo': 'info@queenonline.com',\n",
       "  'Número': '+23 456789012',\n",
       "  'Web': 'http://queenonline.com'},\n",
       " {'Artista': 'MichaelJackson',\n",
       "  'Correo': 'michael.jackson@yahoo.com',\n",
       "  'Número': '+1 567890123',\n",
       "  'Web': 'http://michaeljackson.com'},\n",
       " {'Artista': 'Madonna',\n",
       "  'Correo': 'madonna@madonna.com',\n",
       "  'Número': '+11 678901234',\n",
       "  'Web': 'http://madonna.com'},\n",
       " {'Artista': 'DavidBowie',\n",
       "  'Correo': 'david.bowie@outlook.com',\n",
       "  'Número': '+44 789012345',\n",
       "  'Web': 'http://davidbowie.com'},\n",
       " {'Artista': 'Nirvana',\n",
       "  'Correo': 'contact@nirvana.com',\n",
       "  'Número': '+2 890123456',\n",
       "  'Web': 'http://nirvana.com'},\n",
       " {'Artista': 'Adele',\n",
       "  'Correo': 'adele@adele.com',\n",
       "  'Número': '+44 901234567',\n",
       "  'Web': 'http://adele.com'},\n",
       " {'Artista': 'EdSheeran',\n",
       "  'Correo': 'ed.sheeran@gmail.com',\n",
       "  'Número': '+44 123456789',\n",
       "  'Web': 'http://edsheeran.com'},\n",
       " {'Artista': 'Beyoncé',\n",
       "  'Correo': 'beyonce@beyonce.com',\n",
       "  'Número': '+1 234567890',\n",
       "  'Web': 'http://beyonce.com'},\n",
       " {'Artista': 'TaylorSwift',\n",
       "  'Correo': 'taylor.swift@yahoo.com',\n",
       "  'Número': '+34 345678901',\n",
       "  'Web': 'http://taylorswift.com'},\n",
       " {'Artista': 'Rihanna',\n",
       "  'Correo': 'rihanna@hotmail.com',\n",
       "  'Número': '+1 456789012',\n",
       "  'Web': 'http://rihanna.com'},\n",
       " {'Artista': 'Drake',\n",
       "  'Correo': 'drake@drake.com',\n",
       "  'Número': '+54 567890123',\n",
       "  'Web': 'http://drake.com'},\n",
       " {'Artista': 'KanyeWest',\n",
       "  'Correo': 'kanye.west@gmail.com',\n",
       "  'Número': '+13 678901234',\n",
       "  'Web': 'http://kanyewest.com'},\n",
       " {'Artista': 'BrunoMars',\n",
       "  'Correo': 'bruno.mars@outlook.com',\n",
       "  'Número': '+1 789012345',\n",
       "  'Web': 'https://brunomars.com'},\n",
       " {'Artista': 'ArianaGrande',\n",
       "  'Correo': 'ariana.grande@yahoo.com',\n",
       "  'Número': '+23 890123456',\n",
       "  'Web': 'https://arianagrande.com'},\n",
       " {'Artista': 'Shakira',\n",
       "  'Correo': 'shakira@hotmail.com',\n",
       "  'Número': '+57 123456789',\n",
       "  'Web': 'http://shakira.com'},\n",
       " {'Artista': 'Coldplay',\n",
       "  'Correo': 'info@coldplay.com',\n",
       "  'Número': '+57 234567890',\n",
       "  'Web': 'http://coldplay.com'},\n",
       " {'Artista': 'LadyGaga',\n",
       "  'Correo': 'lady.gaga@gmail.com',\n",
       "  'Número': '+34 345678901',\n",
       "  'Web': 'https://ladygaga.com'}]"
      ]
     },
     "execution_count": 5,
     "metadata": {},
     "output_type": "execute_result"
    }
   ],
   "source": [
    "info_artistas = []\n",
    "\n",
    "for i in range(len(nombres)):\n",
    "    dc = {'Artista': nombres[i], 'Correo': correos[i], 'Número': numeros[i], 'Web': web[i]}\n",
    "    info_artistas.append(dc)\n",
    "\n",
    "info_artistas"
   ]
  },
  {
   "cell_type": "code",
   "execution_count": 6,
   "metadata": {},
   "outputs": [
    {
     "data": {
      "text/plain": [
       "[{'Título': 'Like a Rolling Stone', 'Duración': '6:13', 'Fecha': '1965'},\n",
       " {'Título': 'Hey Jude', 'Duración': '7:11', 'Fecha': '1968'},\n",
       " {'Título': 'Your Song', 'Duración': '4:01', 'Fecha': '1970'},\n",
       " {'Título': 'Bohemian Rhapsody', 'Duración': '5:55', 'Fecha': '1975'},\n",
       " {'Título': 'Billie Jean', 'Duración': '4:54', 'Fecha': '1982'},\n",
       " {'Título': 'Like a Prayer', 'Duración': '5:43', 'Fecha': '1989'},\n",
       " {'Título': 'Space Oddity', 'Duración': '5:18', 'Fecha': '1969'},\n",
       " {'Título': 'Smells Like Teen Spirit', 'Duración': '5:01', 'Fecha': '1991'},\n",
       " {'Título': 'Someone Like You', 'Duración': '4:45', 'Fecha': '2011'},\n",
       " {'Título': 'Shape of You', 'Duración': '3:53', 'Fecha': '2017'},\n",
       " {'Título': 'Halo', 'Duración': '4:21', 'Fecha': '2008'},\n",
       " {'Título': 'Blank Space', 'Duración': '3:52', 'Fecha': '2014'},\n",
       " {'Título': 'Diamonds', 'Duración': '3:45', 'Fecha': '2012'},\n",
       " {'Título': 'Hotline Bling', 'Duración': '4:27', 'Fecha': '2015'},\n",
       " {'Título': 'Stronger', 'Duración': '5:12', 'Fecha': '2007'},\n",
       " {'Título': 'Uptown Funk', 'Duración': '4:30', 'Fecha': '2014'},\n",
       " {'Título': '7 Rings', 'Duración': '2:58', 'Fecha': '2019'},\n",
       " {'Título': \"Hips Don't Lie\", 'Duración': '3:38', 'Fecha': '2006'},\n",
       " {'Título': 'Yellow', 'Duración': '4:26', 'Fecha': '2000'},\n",
       " {'Título': 'Bad Romance', 'Duración': '4:54', 'Fecha': '2009'}]"
      ]
     },
     "execution_count": 6,
     "metadata": {},
     "output_type": "execute_result"
    }
   ],
   "source": [
    "info_canciones = []\n",
    "\n",
    "for i in range(len(titulos)):\n",
    "    dc = {'Título': titulos[i], 'Duración': duraciones[i],'Fecha': fechas[i]}\n",
    "    info_canciones.append(dc)\n",
    "\n",
    "info_canciones"
   ]
  },
  {
   "cell_type": "markdown",
   "metadata": {},
   "source": [
    "### Ejercicio 2: Análisis de datos\n",
    "Usa las **expresiones regulares** para extraer la siguiente información:"
   ]
  },
  {
   "cell_type": "markdown",
   "metadata": {},
   "source": [
    "#### 2.1 Busca la palabra más repetida en el texto completo.\n"
   ]
  },
  {
   "cell_type": "code",
   "execution_count": 7,
   "metadata": {},
   "outputs": [
    {
     "data": {
      "text/plain": [
       "[('I', 496)]"
      ]
     },
     "execution_count": 7,
     "metadata": {},
     "output_type": "execute_result"
    }
   ],
   "source": [
    "patron = r\"\\b[A-Za-z]+\"\n",
    "palabras = re.findall(patron, contenido)\n",
    "palabras = list(map(lambda x: x.strip(), palabras))\n",
    "Counter(palabras).most_common(1)"
   ]
  },
  {
   "cell_type": "markdown",
   "metadata": {},
   "source": [
    "#### 2.2 Busca la palabra que más repetida en cada canción."
   ]
  },
  {
   "cell_type": "code",
   "execution_count": 8,
   "metadata": {},
   "outputs": [],
   "source": [
    "# Separamos las canciones con su información en bruto en una lista eliminando la sensibilidad a mayúsculas\n",
    "contenido = contenido.replace(\"\\n\", \" \").lower()\n",
    "# Las separamos por ./ ya que todas acaban así\n",
    "canciones = contenido.split(\"./\")"
   ]
  },
  {
   "cell_type": "code",
   "execution_count": 9,
   "metadata": {},
   "outputs": [
    {
     "name": "stdout",
     "output_type": "stream",
     "text": [
      "[[('you', 30)], [('it', 11)], [('i', 18)], [('me', 17)], [('the', 35)], [('a', 46)], [('to', 8)], [('hello', 36)], [('i', 23)], [('on', 40)], [('halo', 69)], [('you', 29)], [('like', 38)], [('you', 36)], [('i', 44)], [('you', 34)], [('i', 54)], [('you', 24)], [('you', 21)], [('your', 48)]]\n"
     ]
    }
   ],
   "source": [
    "# La letra de cada canción empieza en el año\n",
    "patron_letra = r\"\\b\\d{4}\\s.+\"\n",
    "# Creamos un patrón para limpiar \n",
    "patron_limpieza = r'[^\\w\\s]'\n",
    "\n",
    "# Almacenamos las letras en una lista de strings\n",
    "letra_canciones = []\n",
    "for cancion in canciones:\n",
    "    cancion = re.findall(patron_letra, cancion)[0]\n",
    "    cancion_limpia = re.sub(patron_limpieza, \"\", cancion)\n",
    "    letra_canciones.append(cancion_limpia)\n",
    "\n",
    "# Contamos las palabras teniendo en cuenta que Counter opera sobre la lista de palabras, por eso usamos x.split()\n",
    "veces = list(map(lambda x: Counter(x.split()).most_common(1), letra_canciones))\n",
    "print(veces)"
   ]
  },
  {
   "cell_type": "markdown",
   "metadata": {},
   "source": [
    "#### 2.3 Busca el nombre de la canción que más dura.\n"
   ]
  },
  {
   "cell_type": "code",
   "execution_count": 10,
   "metadata": {},
   "outputs": [
    {
     "name": "stdout",
     "output_type": "stream",
     "text": [
      "La canción que más dura es Hey Jude con un total de 431 segundos\n"
     ]
    }
   ],
   "source": [
    "dur_max = 0\n",
    "\n",
    "for cancion in info_canciones:\n",
    "    duracion = int(cancion['Duración'][0]) * 60 + int(cancion['Duración'][-2:])\n",
    "    if duracion > dur_max:\n",
    "        dur_max = duracion\n",
    "        cancion_max = cancion['Título']\n",
    "\n",
    "print(f\"La canción que más dura es {cancion_max} con un total de {dur_max} segundos\")"
   ]
  },
  {
   "cell_type": "markdown",
   "metadata": {},
   "source": [
    "#### 2.4 Busca el nombre de la canción que menos dura."
   ]
  },
  {
   "cell_type": "code",
   "execution_count": 11,
   "metadata": {},
   "outputs": [
    {
     "name": "stdout",
     "output_type": "stream",
     "text": [
      "La canción que menos dura es 7 Rings con un total de 178 segundos\n"
     ]
    }
   ],
   "source": [
    "dur_min = dur_max\n",
    "\n",
    "for cancion in info_canciones:\n",
    "    duracion = int(cancion['Duración'][0]) * 60 + int(cancion['Duración'][-2:])\n",
    "    if duracion < dur_min:\n",
    "        dur_min = duracion\n",
    "        cancion_min = cancion['Título']\n",
    "\n",
    "print(f\"La canción que menos dura es {cancion_min} con un total de {dur_min} segundos\")"
   ]
  },
  {
   "cell_type": "markdown",
   "metadata": {},
   "source": [
    "#### 2.5 Busca el nombre y la fecha de lanzamiento de la canción más actual."
   ]
  },
  {
   "cell_type": "code",
   "execution_count": 12,
   "metadata": {},
   "outputs": [
    {
     "name": "stdout",
     "output_type": "stream",
     "text": [
      "La canción más reciente es 7 Rings del año 2019\n"
     ]
    }
   ],
   "source": [
    "fecha_reciente = 0\n",
    "cancion_reciente = ''\n",
    "\n",
    "for cancion in info_canciones:\n",
    "    date = int(cancion['Fecha'])\n",
    "    if date > fecha_reciente:\n",
    "        fecha_reciente = date\n",
    "        cancion_reciente = cancion['Título']\n",
    "\n",
    "print(f\"La canción más reciente es {cancion_reciente} del año {fecha_reciente}\")"
   ]
  },
  {
   "cell_type": "markdown",
   "metadata": {},
   "source": [
    "#### 2.6 Calcula la cantidad de países a partir de los números de contacto."
   ]
  },
  {
   "cell_type": "code",
   "execution_count": 13,
   "metadata": {},
   "outputs": [
    {
     "name": "stdout",
     "output_type": "stream",
     "text": [
      "El número de países es 9\n"
     ]
    }
   ],
   "source": [
    "patron_numeros = r\"\\+\\d+\\s\"\n",
    "\n",
    "paises = []\n",
    "\n",
    "for numero in numeros:\n",
    "    prefijo = re.findall(patron_numeros, numero)[0][1:-1]\n",
    "    if prefijo not in paises:\n",
    "        paises.append(prefijo)\n",
    "\n",
    "print(f\"El número de países es {len(paises)}\")"
   ]
  },
  {
   "cell_type": "markdown",
   "metadata": {},
   "source": [
    "#### 2.7 Agrupa las canciones por década."
   ]
  },
  {
   "cell_type": "code",
   "execution_count": 14,
   "metadata": {},
   "outputs": [
    {
     "data": {
      "text/plain": [
       "{'1960': ['Like a Rolling Stone', 'Hey Jude', 'Space Oddity'],\n",
       " '1970': ['Your Song', 'Bohemian Rhapsody'],\n",
       " '1980': ['Billie Jean', 'Like a Prayer'],\n",
       " '1990': ['Smells Like Teen Spirit'],\n",
       " '2010': ['Someone Like You',\n",
       "  'Shape of You',\n",
       "  'Blank Space',\n",
       "  'Diamonds',\n",
       "  'Hotline Bling',\n",
       "  'Uptown Funk',\n",
       "  '7 Rings'],\n",
       " '2000': ['Halo', 'Stronger', \"Hips Don't Lie\", 'Yellow', 'Bad Romance']}"
      ]
     },
     "execution_count": 14,
     "metadata": {},
     "output_type": "execute_result"
    }
   ],
   "source": [
    "# Diccionario vacío para almacenar las décadas con sus canciones\n",
    "agrupados = {}\n",
    "\n",
    "for cancion in info_canciones:\n",
    "    # Tomamos el año y nos quedamos con la década\n",
    "    decada = cancion['Fecha'][:3] + \"0\"\n",
    "    # Si no tenemos la década la añadimos\n",
    "    if decada not in agrupados:\n",
    "        agrupados[decada] = []\n",
    "    # Añadimos la canción a su década coerrespondiente\n",
    "    agrupados[decada].append(cancion['Título'])\n",
    "\n",
    "agrupados"
   ]
  }
 ],
 "metadata": {
  "kernelspec": {
   "display_name": "envpruebas",
   "language": "python",
   "name": "python3"
  },
  "language_info": {
   "codemirror_mode": {
    "name": "ipython",
    "version": 3
   },
   "file_extension": ".py",
   "mimetype": "text/x-python",
   "name": "python",
   "nbconvert_exporter": "python",
   "pygments_lexer": "ipython3",
   "version": "3.12.4"
  }
 },
 "nbformat": 4,
 "nbformat_minor": 2
}
